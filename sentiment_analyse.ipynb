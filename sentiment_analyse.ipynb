{
 "cells": [
  {
   "cell_type": "markdown",
   "id": "loved-anger",
   "metadata": {},
   "source": [
    "\n",
    "# Sentiment analysis\n",
    "\n",
    "Genruik is gemaakt van `pattern`, die een submodule voor Nederlands heeft. Het algoritme filtert uit zinnen eerst woorden die iets zeggen over emotie, zoals 'goed' of 'spannend'. Ook zoekt het versterkers zoals 'echt', of '!'. Het waardeert ontkennende woorden samen met de daaropvolgende woorden, dus 'niet achterhaald' scoort anders dan 'achterhaald' Woorden die iets zeggen over het sentiment worden gescoord die gebruikt worden voor een uiteindelijke zinscore, dat het gemiddelde is van alle woordbrokjes in een zin. Gescoord wordt met een (polarity, subjectivity)-tuple met polarity tussen -1.0 and 1.0 en subjectivity tusswen 0.0 and 1.0.\n",
    "\n",
    "Voorbeeld: de zin `text = 'het beginselprogramma is niet achterhaald'` wordt positief gescoord, daar waar `text = 'het beginselprogramma is achterhaald'` negatief gescoord wordt.\n",
    "\n",
    "\n"
   ]
  },
  {
   "cell_type": "code",
   "execution_count": null,
   "id": "electrical-peoples",
   "metadata": {},
   "outputs": [],
   "source": [
    "from pattern.nl import sentiment, positive"
   ]
  },
  {
   "cell_type": "code",
   "execution_count": null,
   "id": "declared-commerce",
   "metadata": {
    "scrolled": true
   },
   "outputs": [],
   "source": [
    "text = 'het beginselprogramma is niet achterhaald'\n",
    "print(sentiment(text).assessments, positive(text))\n",
    "text = 'het beginselprogramma is achterhaald'\n",
    "print(sentiment(text).assessments, positive(text))"
   ]
  },
  {
   "cell_type": "markdown",
   "id": "attended-mauritius",
   "metadata": {},
   "source": [
    "## Benodigde libaries "
   ]
  },
  {
   "cell_type": "code",
   "execution_count": null,
   "id": "yellow-characteristic",
   "metadata": {
    "scrolled": true
   },
   "outputs": [],
   "source": [
    "import pandas as pd\n",
    "import numpy as np\n",
    "from bokeh.plotting import figure, show\n",
    "from bokeh.io import output_notebook\n",
    "from bokeh.models import Text\n",
    "import nltk\n",
    "import re\n",
    "from nltk.tokenize import RegexpTokenizer\n",
    "\n",
    "output_notebook()\n",
    "\n",
    "tokenizer = RegexpTokenizer(r'\\w+')"
   ]
  },
  {
   "cell_type": "markdown",
   "id": "legitimate-bubble",
   "metadata": {},
   "source": [
    "## Inladen data "
   ]
  },
  {
   "cell_type": "code",
   "execution_count": null,
   "id": "analyzed-minority",
   "metadata": {},
   "outputs": [],
   "source": [
    "df = pd.read_excel('ledenenquete_over_heel_de_mens.xlsx', skiprows=2, names = ['Serienummer', 'SID', 'Submitted Time', 'Verwerkingstijd',\n",
    "       'Modified Time', 'Kladversie', 'IP-adres', 'UID', 'Gebruikersnaam',\n",
    "       'Naam', 'Email', 'Afdeling',\n",
    "       'indruk', #12\n",
    "       'ontwikkelingen', #13\n",
    "       'redenen', #14\n",
    "       'meegeven']) #15\n",
    "df = df.replace(r'^\\s*$', np.nan, regex=True)\n",
    "df = df[df.Kladversie == 0]"
   ]
  },
  {
   "cell_type": "markdown",
   "id": "boolean-printing",
   "metadata": {},
   "source": [
    "## Benodigde functies"
   ]
  },
  {
   "cell_type": "code",
   "execution_count": null,
   "id": "distant-bangkok",
   "metadata": {},
   "outputs": [],
   "source": [
    "def assess_sentiment(text):\n",
    "    \"\"\" \n",
    "    calculates (polarity, subjectivity)-tuple for the given sentence\n",
    "    with polarity between -1.0 and 1.0 and subjectivity between 0.0 and 1.0\n",
    "    \"\"\"\n",
    "    return positive(text)\n",
    "\n",
    "\n",
    "def get_clean_sentences(text):\n",
    "    \"\"\"\n",
    "    function to clean a text from punctuations and tokenize text into sentences\n",
    "    \"\"\"\n",
    "    text = text.replace(r\"/\\s/g\", \"\")\n",
    "    text = re.sub(r\"(?<!\\b[A-Z])\\.(?!\\d)\", \". \", text) # this changes text.text into text. text\n",
    "    sent_text = nltk.sent_tokenize(text) # this gives us a list of sentences\n",
    "    #filter out sentences that have only .\n",
    "    sent_text = [sent for sent in sent_text if len(sent) > 2]\n",
    "    return sent_text\n",
    "\n",
    "\n",
    "def plot_sentiment(filtered_df, title, column):\n",
    "    \"\"\"\n",
    "    function to plot sentiment from a dataframe\n",
    "    it uses bokeh plot\n",
    "    \"\"\"\n",
    "    sentimenten = ['positief', 'negatief']\n",
    "    pos, neg = filtered_df[column].value_counts()\n",
    "    counts = [pos, neg]\n",
    "\n",
    "    p = figure(x_range=sentimenten, y_range = [0, max(pos,neg) + (pos+neg)/10], plot_height=300, plot_width=300, \n",
    "        title=title, \n",
    "       )\n",
    "    p.vbar(x=sentimenten, top=counts, width=0.9, alpha = 0.6, color = ['green', 'red'])\n",
    "    p.outline_line_color = None\n",
    "    p.grid.grid_line_color = None\n",
    "    p.axis.axis_line_color = 'lightgrey'\n",
    "    p.axis.major_tick_line_color = None\n",
    "    p.axis.minor_tick_line_color = None\n",
    "    p.title.align = 'center'\n",
    "\n",
    "    #add text\n",
    "    pos_text = f'{round(pos / (pos+neg) * 100)} %'\n",
    "    neg_text = f'{round(neg / (pos+neg) * 100)} %'\n",
    "    positieven = Text(x=0.4, y=pos + 3, text=[pos_text], text_font_size='11pt')\n",
    "    p.add_glyph(positieven)\n",
    "    negatieven = Text(x=1.4, y=neg + 3, text=[neg_text], text_font_size='11pt')\n",
    "    p.add_glyph(negatieven)\n",
    "\n",
    "    p.axis.major_label_text_font_size = '11pt'\n",
    "    p.title.text_font_size = '11pt'\n",
    "    show(p)\n",
    "    print('aantal reacties: ', pos+neg)\n",
    "    print('aantal positieve sentimenten: ', pos)\n",
    "    print('aantal negatieve sentimenten : ', neg)\n",
    "\n",
    "\n",
    "def plot_sentiment_nondf(pos, neg, title):\n",
    "    \"\"\"\n",
    "    function to plot sentiment given pos, neg counts\n",
    "    it uses bokeh to plot\n",
    "    \"\"\"\n",
    "    sentimenten = ['positief', 'negatief']\n",
    "    counts = [pos, neg]\n",
    "\n",
    "    p = figure(x_range=sentimenten, y_range = [0, max(pos,neg) + (pos+neg)/5], plot_height=300, plot_width=300, \n",
    "        title=title, \n",
    "       )\n",
    "    p.vbar(x=sentimenten, top=counts, width=0.9, alpha = 0.6, color = ['green', 'red'])\n",
    "    p.outline_line_color = None\n",
    "    p.grid.grid_line_color = None\n",
    "    p.axis.axis_line_color = 'lightgrey'\n",
    "    p.axis.major_tick_line_color = None\n",
    "    p.axis.minor_tick_line_color = None\n",
    "    p.title.align = 'center'\n",
    "\n",
    "    #add text\n",
    "    pos_text = f'{round(pos / (pos+neg) * 100)} %'\n",
    "    neg_text = f'{round(neg / (pos+neg) * 100)} %'\n",
    "    positieven = Text(x=0.4, y=pos + 3, text=[pos_text], text_font_size='11pt')\n",
    "    p.add_glyph(positieven)\n",
    "    negatieven = Text(x=1.4, y=neg + 3, text=[neg_text], text_font_size='11pt')\n",
    "    p.add_glyph(negatieven)\n",
    "\n",
    "    p.axis.major_label_text_font_size = '11pt'\n",
    "    p.title.text_font_size = '11pt'\n",
    "    show(p)\n",
    "    print('aantal reacties: ', pos+neg)\n",
    "    print('aantal positieve sentimenten: ', pos)\n",
    "    print('aantal negatieve sentimenten : ', neg)\n",
    "    \n",
    "\n",
    "def coun_sentiment(neg=0, pos=0, sentences=[], file='out.txt', title=''):\n",
    "    \"\"\"\n",
    "    function that assesses the sentiment and count number of positives and negatived\n",
    "    input: sentences list\n",
    "    output: neg, pos tuple\n",
    "    \"\"\"\n",
    "    with open(file, 'a') as o:\n",
    "        o.write(title+'\\n')\n",
    "        for i in sentences:\n",
    "            # @{str(positive(i))}\n",
    "            o.write(f'{i} \\n')\n",
    "            if positive(i):\n",
    "                pos = pos + 1\n",
    "            else:\n",
    "                neg = neg + 1\n",
    "    return neg, pos"
   ]
  },
  {
   "cell_type": "markdown",
   "id": "disabled-astrology",
   "metadata": {},
   "source": [
    "## Analyse"
   ]
  },
  {
   "cell_type": "code",
   "execution_count": null,
   "id": "fallen-caribbean",
   "metadata": {},
   "outputs": [],
   "source": [
    "# Wat is uw algemene indruk van Heel de mens? \n",
    "# Is ons beginselprogramma achterhaald, of nog altijd actueel? \n",
    "# Wat vindt u van de taal en toon?\n",
    "\n",
    "df['indruk_sentiment'] = df['indruk'].apply(assess_sentiment)\n",
    "filtered_df = df[df['indruk'].notnull()]\n",
    "plot_sentiment(filtered_df, 'Algemene indruk heel de mens', 'indruk_sentiment')"
   ]
  },
  {
   "cell_type": "code",
   "execution_count": null,
   "id": "retained-former",
   "metadata": {},
   "outputs": [],
   "source": [
    "# Redenen om lid te worden? \n",
    "df['redenen_sentiment'] = df['redenen'].apply(assess_sentiment)\n",
    "filtered_df = df[df['indruk'].notnull()]\n",
    "plot_sentiment(filtered_df, 'Reden om lid te worden', 'redenen_sentiment')"
   ]
  },
  {
   "cell_type": "code",
   "execution_count": null,
   "id": "vocal-trunk",
   "metadata": {
    "scrolled": true
   },
   "outputs": [],
   "source": [
    "#  Hoe ziet u de toekomst van de SP?# \n",
    "\n",
    "df['redenen_sentiment'] = df['redenen'].apply(assess_sentiment)\n",
    "filtered_df = df[df['redenen'].notnull()]\n",
    "filtered_df = filtered_df[filtered_df['redenen'].str.contains('toekomst')]\n",
    "plot_sentiment(filtered_df, 'Hoe ziet u de toekomst van de SP?', 'redenen_sentiment')"
   ]
  },
  {
   "cell_type": "code",
   "execution_count": null,
   "id": "honest-vietnamese",
   "metadata": {},
   "outputs": [],
   "source": [
    "#  Navo?\n",
    "\n",
    "def get_navo(column):\n",
    "    df_navo = df[df[column].str.contains('(navo|NAVO|Navo)(\\s|\\.)', regex= True, na=False)]\n",
    "    text = \"\\n\".join(df_navo[column].tolist())\n",
    "    sentences = get_clean_sentences(text)\n",
    "    return list(filter(lambda k: 'navo' in k.lower(), sentences))\n",
    "\n",
    "\n",
    "navo_sentences = get_navo('indruk')\n",
    "neg, pos = coun_sentiment(pos=0, neg=0, sentences=navo_sentences, title = '\\n-----reacties vraag indruk----\\n')\n",
    "navo_sentences = get_navo('redenen')\n",
    "neg, pos = coun_sentiment(neg, pos, sentences=navo_sentences, title = '\\n----reacties redenen om lid te worden----\\n')\n",
    "navo_sentences = get_navo('ontwikkelingen')\n",
    "neg, pos = coun_sentiment(neg, pos, sentences=navo_sentences, title ='\\n----reacties vraag ontwikkeling----\\n')\n",
    "navo_sentences = get_navo('meegeven')\n",
    "neg, pos = coun_sentiment(neg, pos, sentences=navo_sentences,title = '\\n----meegeven aan de commissie----\\n')\n",
    "neg = 91 - 14\n",
    "pos = 14\n",
    "\n",
    "plot_sentiment_nondf(pos=pos, neg=neg, title='Reacties over NAVO standpunt') #handmatig geteld in navo.txt\n",
    "    "
   ]
  },
  {
   "cell_type": "code",
   "execution_count": null,
   "id": "moral-technician",
   "metadata": {},
   "outputs": [],
   "source": [
    "#  Trots?\n",
    "\n",
    "def get_trots(column):\n",
    "    df_trots = df[df[column].str.contains('trots') | df[column].str.contains('Trots')]\n",
    "    text = \"\\n\".join(df_trots[column].tolist())\n",
    "    sentences = get_clean_sentences(text)\n",
    "    return list(filter(lambda k: 'trots' in k.lower(), sentences))\n",
    "\n",
    "\n",
    "_sentences = get_trots('indruk')\n",
    "neg, pos = coun_sentiment(sentences=_sentences)\n",
    "_sentences = get_trots('redenen')\n",
    "neg, pos = coun_sentiment(neg, pos, sentences=_sentences)\n",
    "_sentences = get_trots('ontwikkelingen')\n",
    "neg, pos = coun_sentiment(neg, pos, sentences=_sentences)\n",
    "_sentences = get_trots('meegeven')\n",
    "neg, pos = coun_sentiment(neg, pos, sentences=_sentences)\n",
    "print(neg, pos)\n"
   ]
  },
  {
   "cell_type": "code",
   "execution_count": null,
   "id": "inclusive-customer",
   "metadata": {},
   "outputs": [],
   "source": [
    "plot_sentiment_nondf(pos, neg, 'Trots sentiment')"
   ]
  },
  {
   "cell_type": "code",
   "execution_count": null,
   "id": "julian-saudi",
   "metadata": {},
   "outputs": [],
   "source": [
    "#  Samenwerken?\n",
    "\n",
    "def get_query(column):\n",
    "    query = '(EU|eu|Europa|Euro|euro|Europese)(-\\s|\\.)'\n",
    "    df_query = df[df[column].str.contains(query, regex= True, na=False)]\n",
    "    text = \"\\n\".join(df_query[column].tolist())\n",
    "    sentences = get_clean_sentences(text)\n",
    "    s_eu = list(filter(lambda k: 'EU' in k, sentences))\n",
    "    s_euro = list(filter(lambda k: 'Euro' in k, sentences))\n",
    "    return list(set(s_eu + s_euro))\n",
    "\n",
    "\n",
    "_sentences = get_query('indruk')\n",
    "neg, pos = coun_sentiment(sentences=_sentences, title = '\\n-----reacties vraag indruk----\\n')\n",
    "_sentences = get_query('redenen')\n",
    "neg, pos = coun_sentiment(neg, pos, sentences=_sentences, title = '\\n----reacties redenen om lid te worden----\\n')\n",
    "_sentences = get_query('ontwikkelingen')\n",
    "neg, pos = coun_sentiment(neg, pos, sentences=_sentences, title = '\\n----reacties vraag ontwikkeling----\\n')\n",
    "_sentences = get_query('meegeven')\n",
    "neg, pos = coun_sentiment(neg, pos, sentences=_sentences, title = '\\n----meegeven aan de commissie----\\n')\n",
    "print(neg, pos)\n"
   ]
  },
  {
   "cell_type": "code",
   "execution_count": null,
   "id": "handmade-territory",
   "metadata": {},
   "outputs": [],
   "source": [
    "plot_sentiment_nondf(pos, neg, 'Reacties mbt de EU en de Euro')"
   ]
  }
 ],
 "metadata": {
  "kernelspec": {
   "display_name": "biza",
   "language": "python",
   "name": "biza"
  },
  "language_info": {
   "codemirror_mode": {
    "name": "ipython",
    "version": 3
   },
   "file_extension": ".py",
   "mimetype": "text/x-python",
   "name": "python",
   "nbconvert_exporter": "python",
   "pygments_lexer": "ipython3",
   "version": "3.8.2"
  }
 },
 "nbformat": 4,
 "nbformat_minor": 5
}
