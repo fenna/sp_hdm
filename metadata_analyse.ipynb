{
 "cells": [
  {
   "cell_type": "markdown",
   "id": "wicked-platinum",
   "metadata": {},
   "source": [
    "# Metadata analyse notebook"
   ]
  },
  {
   "cell_type": "code",
   "execution_count": null,
   "id": "standing-homework",
   "metadata": {},
   "outputs": [],
   "source": [
    "import pandas as pd\n",
    "import numpy as np\n",
    "import matplotlib.pyplot as plt\n",
    "%matplotlib notebook"
   ]
  },
  {
   "cell_type": "code",
   "execution_count": null,
   "id": "naval-funds",
   "metadata": {},
   "outputs": [],
   "source": [
    "df = pd.read_excel('ledenenquete_over_heel_de_mens.xlsx', skiprows=2, names = ['Serienummer', 'SID', 'Submitted Time', 'Verwerkingstijd',\n",
    "       'Modified Time', 'Kladversie', 'IP-adres', 'UID', 'Gebruikersnaam',\n",
    "       'Naam', 'Email', 'Afdeling',\n",
    "       'indruk', 'ontwikkelingen', 'redenen', 'meegeven']) "
   ]
  },
  {
   "cell_type": "code",
   "execution_count": null,
   "id": "educated-shore",
   "metadata": {},
   "outputs": [],
   "source": [
    "df.columns"
   ]
  },
  {
   "cell_type": "code",
   "execution_count": null,
   "id": "devoted-jaguar",
   "metadata": {},
   "outputs": [],
   "source": [
    "df.info()"
   ]
  },
  {
   "cell_type": "markdown",
   "id": "rental-helmet",
   "metadata": {},
   "source": [
    "- 5882 hebben de enquete gestart,\n",
    "- 2796 hebben de antwoorden afgemaakt\n",
    "- 3225 hebben de 'indruk' vraag ingevuld\n",
    "- 2781 hebben de 'ontwikkel' vraag ingevuld\n",
    "- 2890 hebben de 'reden vraag ingevuld\n",
    "- 2814 hebben de 'meegeven aan commissie' vraag ingevuld"
   ]
  },
  {
   "cell_type": "code",
   "execution_count": null,
   "id": "necessary-wallet",
   "metadata": {},
   "outputs": [],
   "source": [
    "df.isnull().sum()"
   ]
  },
  {
   "cell_type": "markdown",
   "id": "terminal-collectible",
   "metadata": {},
   "source": [
    "- 3086 leden hebben de enquete niet afgemaakt\n",
    "- 5880 leden hebben geen gebruikersnaam opgegeven\n",
    "- 72 leden hebben geen naam \n",
    "- 74 leden hebben geen email \n",
    "- 990 hebben geen afdeling"
   ]
  },
  {
   "cell_type": "code",
   "execution_count": null,
   "id": "paperback-traveler",
   "metadata": {},
   "outputs": [],
   "source": [
    "#Plot van alle leden die iets ingevuld hebben"
   ]
  },
  {
   "cell_type": "code",
   "execution_count": null,
   "id": "referenced-appointment",
   "metadata": {
    "scrolled": true
   },
   "outputs": [],
   "source": [
    "plt.close('all')\n",
    "fig = plt.figure()\n",
    "freq = df['Afdeling'].value_counts()\n",
    "freq.plot(kind=\"bar\", title = \"participerende leden per afdeling\", xlabel = 'Afdeling', color = 'red', alpha=0.5, \n",
    "          figsize=(20,5))\n",
    "plt.tight_layout()\n",
    "plt.savefig('all.jpg')\n"
   ]
  },
  {
   "cell_type": "code",
   "execution_count": null,
   "id": "chubby-condition",
   "metadata": {},
   "outputs": [],
   "source": [
    "freq = freq.reset_index()\n",
    "print(np.array(freq.sort_values(['index'])))"
   ]
  },
  {
   "cell_type": "code",
   "execution_count": null,
   "id": "acquired-jungle",
   "metadata": {},
   "outputs": [],
   "source": [
    "df_complete = df[df.Verwerkingstijd.notnull()]\n",
    "print(df.shape)\n",
    "print(df_complete.shape)"
   ]
  },
  {
   "cell_type": "code",
   "execution_count": null,
   "id": "rotary-thriller",
   "metadata": {},
   "outputs": [],
   "source": [
    "plt.close('all')\n",
    "fig = plt.figure()\n",
    "freq = df_complete['Afdeling'].value_counts()\n",
    "print(f'aantal afdelingen {len(freq)}')\n",
    "freq.plot(kind=\"bar\", title = \"participerende leden per afdeling compleet ingevuld\", xlabel = 'Afdeling', color = 'red', alpha=0.9, \n",
    "          figsize=(20,5))\n",
    "plt.tight_layout()"
   ]
  },
  {
   "cell_type": "code",
   "execution_count": null,
   "id": "auburn-mention",
   "metadata": {},
   "outputs": [],
   "source": [
    "freq = freq.reset_index()\n",
    "print(np.array(freq.sort_values(['index'])))"
   ]
  }
 ],
 "metadata": {
  "kernelspec": {
   "display_name": "biza",
   "language": "python",
   "name": "biza"
  },
  "language_info": {
   "codemirror_mode": {
    "name": "ipython",
    "version": 3
   },
   "file_extension": ".py",
   "mimetype": "text/x-python",
   "name": "python",
   "nbconvert_exporter": "python",
   "pygments_lexer": "ipython3",
   "version": "3.8.2"
  }
 },
 "nbformat": 4,
 "nbformat_minor": 5
}
