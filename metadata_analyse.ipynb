{
 "cells": [
  {
   "cell_type": "markdown",
   "id": "wicked-platinum",
   "metadata": {},
   "source": [
    "# Metadata analyse notebook"
   ]
  },
  {
   "cell_type": "code",
   "execution_count": null,
   "id": "standing-homework",
   "metadata": {},
   "outputs": [],
   "source": [
    "import pandas as pd\n",
    "import numpy as np\n",
    "import matplotlib.pyplot as plt\n",
    "%matplotlib notebook"
   ]
  },
  {
   "cell_type": "code",
   "execution_count": null,
   "id": "naval-funds",
   "metadata": {},
   "outputs": [],
   "source": [
    "df = pd.read_excel('ledenenquete_over_heel_de_mens.xlsx', skiprows=2, names = ['Serienummer', 'SID', 'Submitted Time', 'Verwerkingstijd',\n",
    "       'Modified Time', 'Kladversie', 'IP-adres', 'UID', 'Gebruikersnaam',\n",
    "       'Naam', 'Email', 'Afdeling',\n",
    "       'indruk', 'ontwikkelingen', 'redenen', 'meegeven']) "
   ]
  },
  {
   "cell_type": "code",
   "execution_count": null,
   "id": "educated-shore",
   "metadata": {},
   "outputs": [],
   "source": [
    "df.columns"
   ]
  },
  {
   "cell_type": "code",
   "execution_count": null,
   "id": "devoted-jaguar",
   "metadata": {},
   "outputs": [],
   "source": [
    "df.info()"
   ]
  },
  {
   "cell_type": "markdown",
   "id": "rental-helmet",
   "metadata": {},
   "source": [
    "- 5882 keer is de enquete gestart,\n",
    "- 2796 is er ingediend\n",
    "- 3225 keer 'indruk' vraag ingevuld\n",
    "- 2781 keer 'ontwikkel' vraag ingevuld\n",
    "- 2890 keer 'reden vraag ingevuld\n",
    "- 2814 keer 'meegeven aan commissie' vraag ingevuld"
   ]
  },
  {
   "cell_type": "code",
   "execution_count": null,
   "id": "opposite-provincial",
   "metadata": {},
   "outputs": [],
   "source": [
    "len(set(df['Naam']))"
   ]
  },
  {
   "cell_type": "code",
   "execution_count": null,
   "id": "stretch-columbia",
   "metadata": {},
   "outputs": [],
   "source": [
    "df_copy = df.copy()\n",
    "df_copy.Afdeling = df_copy.Afdeling.fillna('Onbekend')\n",
    "df_copy.Naam = df_copy.Naam.fillna('Socialist')\n",
    "df_incomplete = df_copy[df_copy.Kladversie==1]\n",
    "print(f'ingevulde enquetes: {len(df_copy)}')\n",
    "print(f'waarvan kladversies: {len(df_incomplete)}')\n",
    "\n",
    "    \n",
    "agg = df_incomplete.pivot_table(columns=['Kladversie', 'Naam'], aggfunc='size', fill_value=0)\n",
    "tot = 0\n",
    "for i in sorted(list(agg.unique())):\n",
    "    size = df_incomplete.pivot_table(columns=['Kladversie', 'Naam'], aggfunc='size', fill_value=0)\n",
    "    size = size[size == i]\n",
    "    tot = tot + len(size)\n",
    "    print(f'{len(size)} aantal leden gebruikte {i} kladversies; subtotaal = {tot}')\n",
    "\n",
    "    "
   ]
  },
  {
   "cell_type": "markdown",
   "id": "personalized-match",
   "metadata": {},
   "source": [
    "# Unieke bijdrages?"
   ]
  },
  {
   "cell_type": "code",
   "execution_count": null,
   "id": "equivalent-latino",
   "metadata": {},
   "outputs": [],
   "source": [
    "# set onbekende afdelingen naar bekende afdelingen als de naam meerdere keren voorkomt\n",
    "df_copy = df.copy()\n",
    "df_copy.Afdeling = df_copy.Afdeling.fillna('@' + df_copy['IP-adres'])\n",
    "#names = list(set(df_copy.Naam))\n",
    "mail = list(set(df_copy.Email))\n",
    "for email in mail:\n",
    "    indices = df_copy[df_copy.Email == email].index.tolist()\n",
    "    try:\n",
    "        city = [x for x in list(set(df_copy[df_copy.Email == email].Afdeling)) if not x.startswith('@')][0]\n",
    "    except:\n",
    "        city = None\n",
    "    df_copy.loc[indices,'Afdeling'] = city\n",
    "    \n",
    "df_copy.Afdeling = df_copy.Afdeling.fillna('@' + df_copy['IP-adres'])\n"
   ]
  },
  {
   "cell_type": "code",
   "execution_count": null,
   "id": "improving-canvas",
   "metadata": {},
   "outputs": [],
   "source": [
    "df_unique = df_copy.drop_duplicates(subset = ['Naam', 'Afdeling'], keep = 'last')\n",
    "df_unique = df_unique.drop_duplicates(subset = [\"Email\"], keep='first')\n",
    "print(f'aantal unieke personen: {len(df_unique)}')"
   ]
  },
  {
   "cell_type": "code",
   "execution_count": null,
   "id": "dietary-synthetic",
   "metadata": {},
   "outputs": [],
   "source": [
    "df_unique = df_unique[df_unique.Kladversie==0]\n",
    "df_unique.info()"
   ]
  },
  {
   "cell_type": "code",
   "execution_count": null,
   "id": "fallen-constitutional",
   "metadata": {},
   "outputs": [],
   "source": [
    "127/2662"
   ]
  },
  {
   "cell_type": "code",
   "execution_count": null,
   "id": "extra-bibliography",
   "metadata": {},
   "outputs": [],
   "source": [
    "df_complete = df[df.Verwerkingstijd.notnull()]\n",
    "df_complete.Afdeling = df_complete.Afdeling.fillna('Onbekend')\n",
    "df_complete.Naam = df_complete.Naam.fillna('Socialist')\n",
    "print(df_complete.info())\n",
    "\n",
    "print(f'compleet ingevulde enquetes: {len(df_complete)}')\n",
    "\n",
    "dup = df_complete[df_complete.duplicated(subset = ['Naam', 'Afdeling'], keep=False)]\n",
    "dup.to_excel(\"duplicates.xlsx\") \n"
   ]
  },
  {
   "cell_type": "code",
   "execution_count": null,
   "id": "necessary-wallet",
   "metadata": {},
   "outputs": [],
   "source": [
    "df.isnull().sum()"
   ]
  },
  {
   "cell_type": "markdown",
   "id": "terminal-collectible",
   "metadata": {},
   "source": [
    "- 3086 leden hebben de enquete niet afgemaakt\n",
    "- 5880 leden hebben geen gebruikersnaam opgegeven\n",
    "- 72 leden hebben geen naam \n",
    "- 74 leden hebben geen email \n",
    "- 990 hebben geen afdeling"
   ]
  },
  {
   "cell_type": "code",
   "execution_count": null,
   "id": "paperback-traveler",
   "metadata": {},
   "outputs": [],
   "source": [
    "#Plot van alle leden die iets ingevuld hebben"
   ]
  },
  {
   "cell_type": "code",
   "execution_count": null,
   "id": "referenced-appointment",
   "metadata": {
    "scrolled": true
   },
   "outputs": [],
   "source": [
    "plt.close('all')\n",
    "fig = plt.figure()\n",
    "freq = df['Afdeling'].value_counts()\n",
    "freq.plot(kind=\"bar\", title = \"participerende leden per afdeling\", xlabel = 'Afdeling', color = 'red', alpha=0.5, \n",
    "          figsize=(20,5))\n",
    "plt.tight_layout()\n",
    "plt.savefig('all.jpg')\n"
   ]
  },
  {
   "cell_type": "code",
   "execution_count": null,
   "id": "chubby-condition",
   "metadata": {},
   "outputs": [],
   "source": [
    "freq = freq.reset_index()\n",
    "print(np.array(freq.sort_values(['index'])))"
   ]
  },
  {
   "cell_type": "code",
   "execution_count": null,
   "id": "acquired-jungle",
   "metadata": {},
   "outputs": [],
   "source": [
    "df_complete = df[df.Verwerkingstijd.notnull()]\n",
    "print(df.shape)\n",
    "print(df_complete.shape)"
   ]
  },
  {
   "cell_type": "code",
   "execution_count": null,
   "id": "rotary-thriller",
   "metadata": {},
   "outputs": [],
   "source": [
    "plt.close('all')\n",
    "fig = plt.figure()\n",
    "freq = df_complete['Afdeling'].value_counts()\n",
    "print(f'aantal afdelingen {len(freq)}')\n",
    "freq.plot(kind=\"bar\", title = \"participerende leden per afdeling compleet ingevuld\", xlabel = 'Afdeling', color = 'red', alpha=0.9, \n",
    "          figsize=(20,5))\n",
    "plt.tight_layout()"
   ]
  },
  {
   "cell_type": "code",
   "execution_count": null,
   "id": "auburn-mention",
   "metadata": {},
   "outputs": [],
   "source": [
    "freq = freq.reset_index()\n",
    "print(np.array(freq.sort_values(['index'])))"
   ]
  }
 ],
 "metadata": {
  "kernelspec": {
   "display_name": "biza",
   "language": "python",
   "name": "biza"
  },
  "language_info": {
   "codemirror_mode": {
    "name": "ipython",
    "version": 3
   },
   "file_extension": ".py",
   "mimetype": "text/x-python",
   "name": "python",
   "nbconvert_exporter": "python",
   "pygments_lexer": "ipython3",
   "version": "3.8.2"
  }
 },
 "nbformat": 4,
 "nbformat_minor": 5
}
